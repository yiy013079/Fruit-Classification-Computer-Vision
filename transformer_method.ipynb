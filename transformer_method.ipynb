{
 "cells": [
  {
   "cell_type": "code",
   "execution_count": null,
   "metadata": {},
   "outputs": [],
   "source": [
    "### 这里是如何调用模型\n",
    "import torch\n",
    "import timm\n",
    "from torchvision import transforms\n",
    "from PIL import Image\n",
    "import torch.nn.functional as F\n",
    "\n",
    "def load_model(model_path, num_classes, device='cuda'):\n",
    "    \"\"\"\n",
    "    Load the pre-trained Swin model from the saved weights.\n",
    "    \n",
    "    :param model_path: Path to the saved .pth file containing the model weights.\n",
    "    :param num_classes: Number of output classes for the model.\n",
    "    :param device: Device to run the model on ('cuda' or 'cpu').\n",
    "    :return: Loaded model\n",
    "    \"\"\"\n",
    "    # Initialize the model\n",
    "    model_swin = timm.create_model(\n",
    "        'swin_tiny_patch4_window7_224',\n",
    "        pretrained=True,\n",
    "        num_classes=num_classes,\n",
    "        img_size=100\n",
    "    ).to(device)\n",
    "    \n",
    "    # Load the model weights\n",
    "    model_swin.load_state_dict(torch.load(model_path, map_location=device))\n",
    "    \n",
    "    # Set the model to evaluation mode\n",
    "    model_swin.eval()\n",
    "    \n",
    "    return model_swin"
   ]
  },
  {
   "cell_type": "code",
   "execution_count": null,
   "metadata": {},
   "outputs": [],
   "source": [
    "def predict_image_with_softmax(model, image_path, device='cuda'):\n",
    "    \"\"\"\n",
    "    Run a prediction on a given image using the loaded model and return softmax probabilities.\n",
    "    \n",
    "    :param model: The model to make predictions with.\n",
    "    :param image_path: Path to the image you want to classify.\n",
    "    :param device: Device to run the model on ('cuda' or 'cpu').\n",
    "    :return: Softmax probabilities for each class.the shape of output is (77,)\n",
    "    \"\"\"\n",
    "    # Define the transformation to be applied to the image\n",
    "    transform = transforms.Compose([\n",
    "        transforms.Resize(100),  # Resize image to 224x224\n",
    "        transforms.ToTensor(),   # Convert image to tensor\n",
    "        transforms.Normalize(mean=[0.485, 0.456, 0.406], std=[0.229, 0.224, 0.225])  # Normalize\n",
    "    ])\n",
    "    \n",
    "    # Open the image and apply the transformations\n",
    "    img = Image.open(image_path).convert('RGB')\n",
    "    img = transform(img).unsqueeze(0).to(device)  # Add batch dimension and move to device\n",
    "    \n",
    "    # Run inference\n",
    "    with torch.no_grad():\n",
    "        output = model(img)\n",
    "        \n",
    "        # Apply softmax to get probabilities\n",
    "        softmax_output = F.softmax(output, dim=1)\n",
    "    \n",
    "    return softmax_output.squeeze().cpu().numpy()  #### the shape of output is (77,)"
   ]
  },
  {
   "cell_type": "code",
   "execution_count": null,
   "metadata": {},
   "outputs": [],
   "source": []
  },
  {
   "cell_type": "code",
   "execution_count": null,
   "metadata": {},
   "outputs": [],
   "source": []
  }
 ],
 "metadata": {
  "language_info": {
   "name": "python"
  }
 },
 "nbformat": 4,
 "nbformat_minor": 2
}
