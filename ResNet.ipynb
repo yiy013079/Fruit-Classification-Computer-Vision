{
 "cells": [
  {
   "cell_type": "code",
   "execution_count": 2,
   "id": "0cfa29b4-9dea-4d09-b469-2409327a7c22",
   "metadata": {},
   "outputs": [],
   "source": [
    "import torch\n",
    "import torch.nn as nn\n",
    "from torchvision import datasets, models, transforms\n",
    "from torch.utils.data import DataLoader\n",
    "import os"
   ]
  },
  {
   "cell_type": "code",
   "execution_count": 4,
   "id": "3b7a6fbe-fe9d-4036-b1b3-79d73af582bc",
   "metadata": {},
   "outputs": [],
   "source": [
    "# Set paths\n",
    "train_dir = '/Users/wufangyi/Desktop/ADS/ML2/Final proj/training-new'\n",
    "test_dir = '/Users/wufangyi/Desktop/ADS/ML2/Final proj/testing-new'\n",
    "save_path = 'model_resnet50_weights.pth'"
   ]
  },
  {
   "cell_type": "code",
   "execution_count": 6,
   "id": "e061da94-d08b-4379-ba4b-d48f44a0698f",
   "metadata": {},
   "outputs": [
    {
     "name": "stdout",
     "output_type": "stream",
     "text": [
      "共 77 个类别： ['Apple', 'Apricot', 'Avocado', 'Banana', 'Beans', 'Beetroot', 'Blackberrie', 'Blueberry', 'Cabbage', 'Cactus fruit', 'Caju seed', 'Cantaloupe', 'Carambula', 'Carrot', 'Cauliflower', 'Cherimoya', 'Cherry', 'Chestnut', 'Clementine', 'Cocos', 'Corn', 'Corn Husk', 'Cucumber', 'Currant red', 'Dates', 'Eggplant', 'Fig', 'Ginger Root', 'Gooseberry', 'Granadilla', 'Grape', 'Grapefruit', 'Guava', 'Hazelnut', 'Huckleberry', 'Kaki', 'Kiwi', 'Kohlrabi', 'Kumquats', 'Lemon', 'Limes', 'Lychee', 'Mandarine', 'Mango', 'Mangostan', 'Maracuja', 'Melon Piel de Sapo', 'Mulberry', 'Nectarine', 'Nut Forest', 'Nut Pecan', 'Onion', 'Orange', 'Papaya', 'Passion Fruit', 'Peach', 'Pear', 'Pepino', 'Pepper', 'Pineapple', 'Pistachio', 'Pitahaya Red', 'Plum', 'Pomegranate', 'Pomelo Sweetie', 'Potato Red', 'Quince', 'Rambutan', 'Raspberry', 'Salak', 'Strawberry', 'Tamarillo', 'Tangelo', 'Tomato', 'Walnut', 'Watermelon', 'Zucchini']\n"
     ]
    }
   ],
   "source": [
    "# 2. 定义预处理\n",
    "imagenet_mean = [0.485, 0.456, 0.406]\n",
    "imagenet_std  = [0.229, 0.224, 0.225]\n",
    "train_tf = transforms.Compose([\n",
    "    transforms.Resize((224, 224)),\n",
    "    transforms.ToTensor(),\n",
    "    transforms.Normalize(imagenet_mean, imagenet_std),\n",
    "])\n",
    "test_tf = transforms.Compose([\n",
    "    transforms.Resize((224, 224)),\n",
    "    transforms.ToTensor(),\n",
    "    transforms.Normalize(imagenet_mean, imagenet_std),\n",
    "])\n",
    "\n",
    "# 3. 读取数据集\n",
    "train_ds = datasets.ImageFolder(train_dir, transform=train_tf)\n",
    "test_ds  = datasets.ImageFolder(test_dir,  transform=test_tf)\n",
    "\n",
    "train_loader = DataLoader(train_ds, batch_size=32, shuffle=True,  num_workers=4)\n",
    "test_loader  = DataLoader(test_ds,  batch_size=32, shuffle=False, num_workers=4)\n",
    "\n",
    "num_classes = len(train_ds.classes)\n",
    "print(f'共 {num_classes} 个类别：', train_ds.classes)"
   ]
  },
  {
   "cell_type": "code",
   "execution_count": 14,
   "id": "98a5c589-6c21-4264-aca7-a4a6b49559bf",
   "metadata": {},
   "outputs": [],
   "source": [
    "device = torch.device(\"cuda\" if torch.cuda.is_available() else \"cpu\")\n",
    "model_resnet = models.resnet50(pretrained=True)\n",
    "model_resnet.fc = torch.nn.Linear(model_resnet.fc.in_features, num_classes)\n",
    "model_resnet = model_resnet.to(device)"
   ]
  },
  {
   "cell_type": "code",
   "execution_count": 16,
   "id": "49e8c88b-42ef-4484-88fc-a417ee838862",
   "metadata": {},
   "outputs": [],
   "source": [
    "criterion = torch.nn.CrossEntropyLoss()\n",
    "optimizer = torch.optim.Adam(model_resnet.parameters(), lr=1e-4)"
   ]
  },
  {
   "cell_type": "code",
   "execution_count": 18,
   "id": "c0545f34-d89f-4806-975c-fefe8335ff28",
   "metadata": {},
   "outputs": [
    {
     "name": "stdout",
     "output_type": "stream",
     "text": [
      "Epoch [1/10] - Loss: 1.4220 - Accuracy: 76.82%\n",
      "Epoch [2/10] - Loss: 0.1368 - Accuracy: 97.96%\n",
      "Epoch [3/10] - Loss: 0.0552 - Accuracy: 99.27%\n",
      "Epoch [4/10] - Loss: 0.0267 - Accuracy: 99.66%\n",
      "Epoch [5/10] - Loss: 0.0245 - Accuracy: 99.66%\n",
      "Epoch [6/10] - Loss: 0.0270 - Accuracy: 99.69%\n",
      "Epoch [7/10] - Loss: 0.0345 - Accuracy: 99.16%\n",
      "Epoch [8/10] - Loss: 0.0153 - Accuracy: 99.76%\n",
      "Epoch [9/10] - Loss: 0.0476 - Accuracy: 98.87%\n",
      "Epoch [10/10] - Loss: 0.0242 - Accuracy: 99.48%\n"
     ]
    }
   ],
   "source": [
    "# === 训练循环 ===\n",
    "train_loss_list = []\n",
    "train_acc_list = []\n",
    "num_epochs = 10\n",
    "\n",
    "for epoch in range(num_epochs):\n",
    "    model_resnet.train()\n",
    "    total_loss = 0.0\n",
    "    correct = 0\n",
    "    total = 0\n",
    "    \n",
    "    for images, labels in train_loader:\n",
    "        images, labels = images.to(device), labels.to(device)\n",
    "\n",
    "        optimizer.zero_grad()\n",
    "        outputs = model_resnet(images)\n",
    "        loss = criterion(outputs, labels)\n",
    "        loss.backward()\n",
    "        optimizer.step()\n",
    "\n",
    "        total_loss += loss.item()\n",
    "        _, preds = torch.max(outputs, 1)\n",
    "        correct += (preds == labels).sum().item()\n",
    "        total += labels.size(0)\n",
    "    \n",
    "    avg_loss = total_loss / len(train_loader)\n",
    "    acc = correct / total\n",
    "    train_loss_list.append(avg_loss)\n",
    "    train_acc_list.append(acc)\n",
    "\n",
    "    print(f\"Epoch [{epoch+1}/{num_epochs}] - Loss: {avg_loss:.4f} - Accuracy: {acc*100:.2f}%\")"
   ]
  },
  {
   "cell_type": "code",
   "execution_count": 20,
   "id": "54895d48-e8d7-4d49-a518-358417327517",
   "metadata": {},
   "outputs": [
    {
     "name": "stderr",
     "output_type": "stream",
     "text": [
      "Evaluating on test set: 100%|█████████████████| 120/120 [05:02<00:00,  2.52s/it]"
     ]
    },
    {
     "name": "stdout",
     "output_type": "stream",
     "text": [
      "Final Test Accuracy: 97.80%\n"
     ]
    },
    {
     "name": "stderr",
     "output_type": "stream",
     "text": [
      "\n"
     ]
    }
   ],
   "source": [
    "from tqdm import tqdm  \n",
    "\n",
    "# === Final Test Accuracy Evaluation with Progress Bar ===\n",
    "model_resnet.eval()\n",
    "test_correct = 0\n",
    "test_total = 0\n",
    "\n",
    "with torch.no_grad():\n",
    "    for images, labels in tqdm(test_loader, desc=\"Evaluating on test set\"):\n",
    "        images, labels = images.to(device), labels.to(device)\n",
    "        outputs = model_resnet(images)\n",
    "        _, preds = torch.max(outputs, 1)\n",
    "        test_correct += (preds == labels).sum().item()\n",
    "        test_total += labels.size(0)\n",
    "\n",
    "final_test_acc = test_correct / test_total\n",
    "print(f\"Final Test Accuracy: {final_test_acc * 100:.2f}%\")"
   ]
  },
  {
   "cell_type": "code",
   "execution_count": 22,
   "id": "8f974344-19e2-4839-8e64-7c435d012cae",
   "metadata": {},
   "outputs": [
    {
     "name": "stdout",
     "output_type": "stream",
     "text": [
      "model saved model_resnet50_weights.pth\n"
     ]
    }
   ],
   "source": [
    "# === 保存模型 ===\n",
    "torch.save(model_resnet.state_dict(), save_path)\n",
    "print(f\"model saved {save_path}\")\n",
    "\n",
    "# Add final test accuracy check here"
   ]
  },
  {
   "cell_type": "code",
   "execution_count": 26,
   "id": "9393750d-be09-460c-8ec7-f3af1ae454c7",
   "metadata": {},
   "outputs": [],
   "source": [
    "import matplotlib.pyplot as plt"
   ]
  },
  {
   "cell_type": "code",
   "execution_count": 28,
   "id": "5e7dbf8e-35dc-4117-b345-712fc9bf5a20",
   "metadata": {},
   "outputs": [
    {
     "data": {
      "image/png": "[encoded data removed]",
      "text/plain": [
       "<Figure size 1200x500 with 2 Axes>"
      ]
     },
     "metadata": {},
     "output_type": "display_data"
    }
   ],
   "source": [
    "# === 绘图：Loss 和 Accuracy ===\n",
    "plt.figure(figsize=(12, 5))\n",
    "plt.subplot(1, 2, 1)\n",
    "plt.plot(train_loss_list, label='Train Loss')\n",
    "plt.title('Training Loss')\n",
    "plt.xlabel('Epoch')\n",
    "plt.ylabel('Loss')\n",
    "plt.grid(True)\n",
    "\n",
    "plt.subplot(1, 2, 2)\n",
    "plt.plot(train_acc_list, label='Train Accuracy')\n",
    "plt.title('Training Accuracy')\n",
    "plt.xlabel('Epoch')\n",
    "plt.ylabel('Accuracy')\n",
    "plt.grid(True)\n",
    "\n",
    "plt.tight_layout()\n",
    "plt.show()"
   ]
  },
  {
   "cell_type": "code",
   "execution_count": null,
   "id": "7eeba0d1-3ac4-4f2d-a56d-42894f0f802e",
   "metadata": {},
   "outputs": [],
   "source": []
  }
 ],
 "metadata": {
  "kernelspec": {
   "display_name": "Python [conda env:base] *",
   "language": "python",
   "name": "conda-base-py"
  },
  "language_info": {
   "codemirror_mode": {
    "name": "ipython",
    "version": 3
   },
   "file_extension": ".py",
   "mimetype": "text/x-python",
   "name": "python",
   "nbconvert_exporter": "python",
   "pygments_lexer": "ipython3",
   "version": "3.12.7"
  }
 },
 "nbformat": 4,
 "nbformat_minor": 5
}
